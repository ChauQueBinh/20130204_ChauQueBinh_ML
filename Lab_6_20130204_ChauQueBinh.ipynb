{
  "nbformat": 4,
  "nbformat_minor": 0,
  "metadata": {
    "colab": {
      "provenance": [],
      "include_colab_link": true
    },
    "kernelspec": {
      "name": "python3",
      "display_name": "Python 3"
    },
    "language_info": {
      "name": "python"
    }
  },
  "cells": [
    {
      "cell_type": "markdown",
      "metadata": {
        "id": "view-in-github",
        "colab_type": "text"
      },
      "source": [
        "<a href=\"https://colab.research.google.com/github/ChauQueBinh/20130204_ChauQueBinh_ML/blob/main/Lab_6_20130204_ChauQueBinh.ipynb\" target=\"_parent\"><img src=\"https://colab.research.google.com/assets/colab-badge.svg\" alt=\"Open In Colab\"/></a>"
      ]
    },
    {
      "cell_type": "markdown",
      "source": [
        "# This lab is to deal with classification task using **Random Forests** and **Naïve Bayes** algorithms with/without **Feature Selection**. \n",
        "\n",
        "*   **Deadline: 23:59, 25/03/2023**\n",
        "\n"
      ],
      "metadata": {
        "id": "LMzehe0sy5wr"
      }
    },
    {
      "cell_type": "markdown",
      "source": [
        "# Import libraries"
      ],
      "metadata": {
        "id": "H4nJmxp9zGX4"
      }
    },
    {
      "cell_type": "code",
      "execution_count": null,
      "metadata": {
        "id": "DoVWQ8AEyc-C",
        "colab": {
          "base_uri": "https://localhost:8080/"
        },
        "outputId": "f5ae4f36-dce6-4560-9e1f-4e3cb115c4b6"
      },
      "outputs": [
        {
          "output_type": "stream",
          "name": "stdout",
          "text": [
            "Mounted at /content/gdrive\n",
            "/content/gdrive/MyDrive/ML_2023\n"
          ]
        }
      ],
      "source": [
        "# code\n",
        "from google.colab import drive\n",
        "drive.mount('/content/gdrive')\n",
        "%cd '/content/gdrive/MyDrive/ML_2023'\n"
      ]
    },
    {
      "cell_type": "code",
      "source": [
        "from sklearn import datasets\n",
        "from sklearn.linear_model import LogisticRegression\n",
        "from sklearn.metrics import confusion_matrix\n",
        "from sklearn.metrics import accuracy_score\n",
        "from sklearn.model_selection import train_test_split\n",
        "from sklearn.linear_model import LinearRegression\n",
        "from sklearn.metrics._plot.confusion_matrix import ConfusionMatrixDisplay\n",
        "from sklearn import metrics\n",
        "from sklearn.neighbors import KNeighborsClassifier\n",
        "import matplotlib.pyplot as plt\n",
        "import pandas as pd\n",
        "import numpy as np\n",
        "from sklearn.tree import DecisionTreeClassifier\n",
        "from sklearn import tree\n",
        "from sklearn.metrics import accuracy_score, precision_score, recall_score, f1_score\n",
        "from sklearn import svm\n",
        "from prettytable import PrettyTable\n",
        "\n",
        "\n",
        "\n",
        "from sklearn.feature_selection import chi2\n",
        "from sklearn.feature_selection import SelectKBest\n",
        "from sklearn.ensemble import RandomForestClassifier\n",
        "\n",
        "from sklearn.naive_bayes import GaussianNB\n",
        "from sklearn.decomposition import PCA"
      ],
      "metadata": {
        "id": "AhLTzPgN3kRk"
      },
      "execution_count": null,
      "outputs": []
    },
    {
      "cell_type": "code",
      "source": [
        "from sklearn import datasets\n",
        "from sklearn.preprocessing import StandardScaler\n",
        "from sklearn.model_selection import train_test_split\n",
        "from sklearn.ensemble import RandomForestClassifier\n",
        "from sklearn.naive_bayes import GaussianNB\n",
        "from sklearn import svm\n",
        "from sklearn.metrics import accuracy_score, precision_score, recall_score, f1_score\n",
        "import pandas as pd\n",
        "from sklearn.feature_selection import SelectKBest\n",
        "from sklearn.feature_selection import f_classif\n",
        "from sklearn.feature_selection import SelectFromModel"
      ],
      "metadata": {
        "id": "6yhUthizNSHD"
      },
      "execution_count": null,
      "outputs": []
    },
    {
      "cell_type": "markdown",
      "source": [
        "#Task 1. \n",
        "Task 1. Compare the performance of selected classification algorithms including **Random forest**, **NaiveBayes**, and **SVM** with **mnist** dataset based on **accuracy, precision, recall, f1** measures according to **without using selection feature** and **using selection feature**.\n",
        "\n"
      ],
      "metadata": {
        "id": "kNv07ARGzOUm"
      }
    },
    {
      "cell_type": "code",
      "source": [
        "# Import scikit-learn dataset library\n",
        "from sklearn import datasets\n",
        "\n",
        "# Load dataset\n",
        "cancer = datasets.load_breast_cancer()"
      ],
      "metadata": {
        "id": "aAm3Fnik2bQV"
      },
      "execution_count": null,
      "outputs": []
    },
    {
      "cell_type": "code",
      "source": [
        "# GaussianNB\n",
        "from sklearn.naive_bayes import GaussianNB\n",
        "model = GaussianNB()\n",
        "# model.fit(X_train, y_train)\n",
        "# y_pred = model.predict(X_test)"
      ],
      "metadata": {
        "id": "ZrIK_KH51MAe"
      },
      "execution_count": null,
      "outputs": []
    },
    {
      "cell_type": "code",
      "source": [
        "# CategoricalNB\n",
        "from sklearn.naive_bayes import CategoricalNB\n",
        "clf = CategoricalNB()\n",
        "# clf.fit(X_train, y_train)\n",
        "# y_pred = clf.predict(X_test)"
      ],
      "metadata": {
        "id": "-JC7EXiq1Tjk"
      },
      "execution_count": null,
      "outputs": []
    },
    {
      "cell_type": "code",
      "source": [
        "# BernoulliNB\n",
        "from sklearn.naive_bayes import BernoulliNB\n",
        "clf = BernoulliNB()\n",
        "# clf.fit(X_train, y_train)\n",
        "# y_pred = clf.predict(X_test)"
      ],
      "metadata": {
        "id": "45qfGWrV1jYc"
      },
      "execution_count": null,
      "outputs": []
    },
    {
      "cell_type": "code",
      "source": [
        "# BernoulliNB\n",
        "from sklearn.naive_bayes import BernoulliNB\n",
        "clf = BernoulliNB()\n",
        "# clf.fit(X_train, y_train)\n",
        "# y_pred = clf.predict(X_test)"
      ],
      "metadata": {
        "id": "rt7z9Ncr1qOM"
      },
      "execution_count": null,
      "outputs": []
    },
    {
      "cell_type": "code",
      "source": [
        "# BernoulliNB\n",
        "from sklearn.naive_bayes import BernoulliNB\n",
        "clf = BernoulliNB()\n",
        "# clf.fit(X_train, y_train)\n",
        "# y_pred = clf.predict(X_test)"
      ],
      "metadata": {
        "id": "guKOKtuK1yjs"
      },
      "execution_count": null,
      "outputs": []
    },
    {
      "cell_type": "code",
      "source": [
        "# ComplementNB\n",
        "from sklearn.naive_bayes import ComplementNB\n",
        "model = ComplementNB()\n",
        "# model.fit(X_train, y_train)\n",
        "# y_pred = model.predict(X_test))"
      ],
      "metadata": {
        "id": "tcrxdoZe11WT"
      },
      "execution_count": null,
      "outputs": []
    },
    {
      "cell_type": "code",
      "source": [
        "mnist = datasets.load_digits()\n",
        "x= mnist['data']\n",
        "y= mnist['target']\n",
        "X_train, X_test, y_train, y_test = train_test_split(x, y, test_size=0.3, random_state=0)\n",
        "     "
      ],
      "metadata": {
        "id": "wipeK5Zu6cJE"
      },
      "execution_count": null,
      "outputs": []
    },
    {
      "cell_type": "code",
      "source": [
        "# linear\n",
        "# SVM\n",
        "clf = svm.SVC(kernel='linear') \n",
        "clf.fit(X_train, y_train)\n",
        "y_pred_linear = clf.predict(X_test)\n",
        "\n",
        "accuracy_linear = accuracy_score(y_test, y_pred_linear)\n",
        "precision_linear = precision_score(y_test, y_pred_linear, average='macro')\n",
        "recall_linear = recall_score(y_test, y_pred_linear, average='macro')\n",
        "f1_linear = f1_score(y_test, y_pred_linear, average='macro')\n",
        "\n",
        "# Radial Basis\n",
        "clf = svm.SVC(kernel='rbf') \n",
        "clf.fit(X_train, y_train)\n",
        "y_pred_rad = clf.predict(X_test)\n",
        "\n",
        "accuracy_rad = accuracy_score(y_test, y_pred_rad)\n",
        "precision_rad = precision_score(y_test, y_pred_rad, average='macro')\n",
        "recall_rad = recall_score(y_test, y_pred_rad, average='macro')\n",
        "f1_rad = f1_score(y_test, y_pred_rad, average='macro')\n",
        "\n",
        "#Create a Random Forest Classifier\n",
        "clf=RandomForestClassifier(n_estimators=100)\n",
        "#Train the model using the training sets\n",
        "clf.fit(X_train,y_train)\n",
        "y_pred_random = clf.predict(X_test)\n",
        "\n",
        "accuracy_random = accuracy_score(y_test, y_pred_random)\n",
        "precision_random = precision_score(y_test, y_pred_random, average='macro')\n",
        "recall_random = recall_score(y_test, y_pred_random, average='macro')\n",
        "f1_random = f1_score(y_test, y_pred_random, average='macro')\n",
        "\n",
        "# Naive Bayes -GaussianNB\n",
        "model = GaussianNB()\n",
        "model.fit(X_train, y_train)\n",
        "y_predNB = model.predict(X_test)\n",
        "\n",
        "accuracy_NB = accuracy_score(y_test, y_predNB)\n",
        "precision_NB = precision_score(y_test, y_predNB, average='macro')\n",
        "recall_NB = recall_score(y_test, y_predNB, average='macro')\n",
        "f1_NB = f1_score(y_test, y_predNB, average='macro')\n",
        "\n",
        "\n",
        "# SVM\n",
        "clf = svm.SVC(kernel='linear') \n",
        "clf.fit(X_train, y_train)\n",
        "y_pred_svm = clf.predict(X_test)\n",
        "\n",
        "accuracy_svm = accuracy_score(y_test, y_pred_svm)\n",
        "precision_svm = precision_score(y_test, y_pred_svm, average='macro')\n",
        "recall_svm = recall_score(y_test, y_pred_svm, average='macro')\n",
        "f1_svm = f1_score(y_test, y_pred_svm, average='macro')\n"
      ],
      "metadata": {
        "id": "-RMLM3Zj6f5L"
      },
      "execution_count": null,
      "outputs": []
    },
    {
      "cell_type": "code",
      "source": [
        "# feature extraction\n",
        "pca = PCA(n_components=3)\n",
        "fit = pca.fit(x)\n",
        "# summarize components\n",
        "print(fit.components_)"
      ],
      "metadata": {
        "colab": {
          "base_uri": "https://localhost:8080/"
        },
        "id": "rBYxlLsI6v6D",
        "outputId": "265e6f40-adcd-4fac-bc96-e417a58b60cd"
      },
      "execution_count": null,
      "outputs": [
        {
          "output_type": "stream",
          "name": "stdout",
          "text": [
            "[[-3.43785590e-18 -1.73094653e-02 -2.23428836e-01 -1.35913305e-01\n",
            "  -3.30323120e-02 -9.66340850e-02 -8.32943704e-03  2.26900107e-03\n",
            "  -3.20516504e-04 -1.19308905e-01 -2.44451675e-01  1.48512747e-01\n",
            "  -4.67319398e-02 -2.17740744e-01 -1.48136763e-02  4.47779540e-03\n",
            "  -4.94136409e-05 -7.95419378e-02  8.33951452e-02  2.15915341e-01\n",
            "  -1.72126800e-01 -1.63712098e-01  2.86444458e-02  4.23251812e-03\n",
            "   9.85488576e-05  6.42319147e-02  2.54093315e-01 -3.56771036e-02\n",
            "  -2.09462569e-01 -4.31311430e-02  5.13118690e-02  2.13422736e-04\n",
            "   0.00000000e+00  1.59950883e-01  3.68690775e-01  1.64406828e-01\n",
            "   8.52007914e-02  3.72982847e-02  2.15866975e-02  0.00000000e+00\n",
            "   1.28865583e-03  1.06945286e-01  3.03067456e-01  2.47813039e-01\n",
            "   2.09637295e-01  1.22325217e-02 -3.69458502e-02  1.61485026e-03\n",
            "   6.93023540e-04 -8.35144271e-03 -5.58598985e-02  9.30534177e-02\n",
            "   1.07387720e-01 -1.37734564e-01 -6.32879469e-02  9.61671125e-04\n",
            "   9.55079101e-06 -1.40786841e-02 -2.35675489e-01 -1.41225588e-01\n",
            "  -9.15964690e-03 -8.94184684e-02 -3.65977115e-02 -1.14684953e-02]\n",
            " [-2.05273778e-17 -1.01064573e-02 -4.90849216e-02 -9.43337398e-03\n",
            "  -5.36015663e-02 -1.17755318e-01 -6.21281797e-02 -7.93574604e-03\n",
            "  -1.63216283e-04 -2.10167094e-02  6.03485677e-02 -5.33769540e-03\n",
            "  -9.19769220e-02 -5.19210472e-02 -5.89354695e-02 -3.33283449e-03\n",
            "  -4.22872211e-05  3.62458476e-02  1.98257337e-01 -4.86386551e-02\n",
            "  -2.25574892e-01 -4.50541843e-03  2.67696697e-02 -2.08736000e-04\n",
            "  -5.66233996e-05  7.71235122e-02  1.88447109e-01 -1.37952518e-01\n",
            "  -2.61042777e-01  4.98350563e-02  6.51113748e-02  4.03200261e-05\n",
            "  -0.00000000e+00  8.81559924e-02  8.71737616e-02 -2.70860186e-01\n",
            "  -2.85291798e-01  1.66461582e-01  1.27860542e-01 -0.00000000e+00\n",
            "   2.89440133e-04  5.08304862e-02  1.30274462e-01 -2.68906473e-01\n",
            "  -3.01575537e-01  2.40259065e-01  2.17555551e-01  1.32726066e-03\n",
            "   2.86742929e-04  1.05548280e-02  1.53370695e-01 -1.19535170e-01\n",
            "  -9.72508063e-02  2.85869536e-01  1.48776446e-01  5.42291316e-04\n",
            "  -3.34028095e-05 -1.00791171e-02 -7.02724084e-02  1.71108116e-02\n",
            "   1.94296394e-01  1.76697116e-01  1.94547058e-02 -6.69693805e-03]\n",
            " [ 4.07949361e-17  1.83420746e-02  1.26475558e-01  1.32154814e-01\n",
            "  -1.34016045e-01 -2.64938834e-01 -1.16643766e-01 -1.68423464e-02\n",
            "   3.93971241e-04  7.94371519e-02  8.74387331e-02  6.55909593e-02\n",
            "  -7.89760721e-04 -2.80102000e-01 -1.59704553e-01 -1.51616161e-02\n",
            "   2.12613392e-04  4.24412714e-02  4.72716524e-03  7.38147738e-02\n",
            "   9.65404176e-02 -3.07581090e-01 -1.48011901e-01 -6.33142325e-03\n",
            "   5.01584079e-05 -4.41791985e-02 -7.25665044e-02  7.13385255e-02\n",
            "  -8.05258323e-03 -3.53007932e-01 -1.48327616e-01 -2.18498521e-04\n",
            "   0.00000000e+00 -5.45021609e-02 -3.36019678e-02  1.41335295e-01\n",
            "   1.50096816e-02 -2.57973907e-01 -9.38408374e-02  0.00000000e+00\n",
            "  -3.19977379e-04 -2.41499145e-02  1.21723734e-01  1.71362093e-01\n",
            "  -8.57777682e-02 -1.44627543e-01  7.01061951e-02  2.92247649e-03\n",
            "  -1.29047789e-04  1.86135996e-02  2.34990788e-01  1.69857757e-01\n",
            "  -5.39961527e-02  8.48976049e-02  2.22787089e-01  2.18621480e-02\n",
            "  -1.39805407e-05  1.75833106e-02  1.23158226e-01  9.83532243e-02\n",
            "   1.38485243e-01  2.32084179e-01  1.67026577e-01  3.48043907e-02]]\n"
          ]
        }
      ]
    },
    {
      "cell_type": "code",
      "source": [
        "\n",
        "table= PrettyTable(['','acc','pre','recall','f1'])\n",
        "\n",
        "table.add_row(['SVM', round(accuracy_svm,2),round(precision_svm,2),round(recall_svm,2),round(f1_svm,2)])\n",
        "table.add_row(['NB', round(accuracy_NB,2),round(precision_NB,2),round(recall_NB,2),round(f1_NB,2)])\n",
        "table.add_row(['Random', round(accuracy_random,2),round(precision_random,2),round(recall_random,2),round(f1_random,2)])\n",
        "table.add_row(['Radial Basis', round(accuracy_rad,2),round(precision_rad,2),round(recall_rad,2),round(f1_rad,2)])\n",
        "\n",
        "print(table)"
      ],
      "metadata": {
        "colab": {
          "base_uri": "https://localhost:8080/"
        },
        "id": "jrMSSu6q64R7",
        "outputId": "8b0bf55e-ac98-4e8e-fdb1-78a05ac5aaec"
      },
      "execution_count": null,
      "outputs": [
        {
          "output_type": "stream",
          "name": "stdout",
          "text": [
            "+--------------+------+------+--------+------+\n",
            "|              | acc  | pre  | recall |  f1  |\n",
            "+--------------+------+------+--------+------+\n",
            "|     SVM      | 0.97 | 0.97 |  0.98  | 0.97 |\n",
            "|      NB      | 0.82 | 0.86 |  0.83  | 0.82 |\n",
            "|    Random    | 0.98 | 0.98 |  0.98  | 0.98 |\n",
            "| Radial Basis | 0.99 | 0.99 |  0.99  | 0.99 |\n",
            "+--------------+------+------+--------+------+\n"
          ]
        }
      ]
    },
    {
      "cell_type": "markdown",
      "source": [
        "#Task 2. \n",
        "For given bank dataset (bank.csv) having the following attributes :\n",
        "1.\t**age** (numeric)\n",
        "2.\t**job** : type of job (categorical: 'admin.','blue-collar','entrepreneur','housemaid','management','retired','self-employed','services','student','technician','unemployed','unknown')\n",
        "3.\t**marital** : marital status (categorical: 'divorced','married','single','unknown'; note: 'divorced' means divorced or widowed)\n",
        "4.\t**education** (categorical: 'basic.4y','basic.6y','basic.9y','high.school','illiterate','professional.course','university.degree','unknown')\n",
        "5.\t**default**: has credit in default? (categorical: 'no','yes','unknown')\n",
        "6.\t**housing**: has housing loan? (categorical: 'no','yes','unknown')\n",
        "7.\t**loan**: has personal loan? (categorical: 'no','yes','unknown')\n",
        "8.\t**contact**: contact communication type (categorical: 'cellular','telephone')\n",
        "9.\t**month**: last contact month of year (categorical: 'jan', 'feb', 'mar', ..., 'nov', 'dec')\n",
        "10.\t**day_of_week**: last contact day of the week (categorical: 'mon','tue','wed','thu','fri')\n",
        "11.\t**duration**: last contact duration, in seconds (numeric). Important note: this attribute highly affects the output target (e.g., if duration=0 then y='no'). Yet, the duration is not known before a call is performed. Also, after the end of the call y is obviously known. Thus, this input should only be included for benchmark purposes and should be discarded if the intention is to have a realistic predictive model.\n",
        "12.\t**campaign**: number of contacts performed during this campaign and for this client (numeric, includes last contact)\n",
        "13.\t**pdays**: number of days that passed by after the client was last contacted from a previous campaign (numeric; 999 means client was not previously contacted)\n",
        "14.\t**previous**: number of contacts performed before this campaign and for this client (numeric)\n",
        "15.\t**poutcome**: outcome of the previous marketing campaign (categorical: 'failure','nonexistent','success')\n",
        "Output variable (desired target):\n",
        "16.\t**y**. has the client subscribed a term deposit? (binary: 'yes','no')\n",
        "\n"
      ],
      "metadata": {
        "id": "b52OPWPD2afi"
      }
    },
    {
      "cell_type": "code",
      "source": [
        "# code\n",
        "dataset=pd.read_csv(\"bank.csv\")\n",
        "dataset.head(10)"
      ],
      "metadata": {
        "colab": {
          "base_uri": "https://localhost:8080/",
          "height": 363
        },
        "id": "tcdb3vx-3I9j",
        "outputId": "4c9db55b-ac63-4b29-c72e-eb58011e55ed"
      },
      "execution_count": null,
      "outputs": [
        {
          "output_type": "execute_result",
          "data": {
            "text/plain": [
              "   age         job   marital  education default  balance housing loan  \\\n",
              "0   59      admin.   married  secondary      no     2343     yes   no   \n",
              "1   56      admin.   married  secondary      no       45      no   no   \n",
              "2   41  technician   married  secondary      no     1270     yes   no   \n",
              "3   55    services   married  secondary      no     2476     yes   no   \n",
              "4   54      admin.   married   tertiary      no      184      no   no   \n",
              "5   42  management    single   tertiary      no        0     yes  yes   \n",
              "6   56  management   married   tertiary      no      830     yes  yes   \n",
              "7   60     retired  divorced  secondary      no      545     yes   no   \n",
              "8   37  technician   married  secondary      no        1     yes   no   \n",
              "9   28    services    single  secondary      no     5090     yes   no   \n",
              "\n",
              "   contact  day month  duration  campaign  pdays  previous poutcome deposit  \n",
              "0  unknown    5   may      1042         1     -1         0  unknown     yes  \n",
              "1  unknown    5   may      1467         1     -1         0  unknown     yes  \n",
              "2  unknown    5   may      1389         1     -1         0  unknown     yes  \n",
              "3  unknown    5   may       579         1     -1         0  unknown     yes  \n",
              "4  unknown    5   may       673         2     -1         0  unknown     yes  \n",
              "5  unknown    5   may       562         2     -1         0  unknown     yes  \n",
              "6  unknown    6   may      1201         1     -1         0  unknown     yes  \n",
              "7  unknown    6   may      1030         1     -1         0  unknown     yes  \n",
              "8  unknown    6   may       608         1     -1         0  unknown     yes  \n",
              "9  unknown    6   may      1297         3     -1         0  unknown     yes  "
            ],
            "text/html": [
              "\n",
              "  <div id=\"df-e152a224-86d0-493e-9ae5-3cba2895c407\">\n",
              "    <div class=\"colab-df-container\">\n",
              "      <div>\n",
              "<style scoped>\n",
              "    .dataframe tbody tr th:only-of-type {\n",
              "        vertical-align: middle;\n",
              "    }\n",
              "\n",
              "    .dataframe tbody tr th {\n",
              "        vertical-align: top;\n",
              "    }\n",
              "\n",
              "    .dataframe thead th {\n",
              "        text-align: right;\n",
              "    }\n",
              "</style>\n",
              "<table border=\"1\" class=\"dataframe\">\n",
              "  <thead>\n",
              "    <tr style=\"text-align: right;\">\n",
              "      <th></th>\n",
              "      <th>age</th>\n",
              "      <th>job</th>\n",
              "      <th>marital</th>\n",
              "      <th>education</th>\n",
              "      <th>default</th>\n",
              "      <th>balance</th>\n",
              "      <th>housing</th>\n",
              "      <th>loan</th>\n",
              "      <th>contact</th>\n",
              "      <th>day</th>\n",
              "      <th>month</th>\n",
              "      <th>duration</th>\n",
              "      <th>campaign</th>\n",
              "      <th>pdays</th>\n",
              "      <th>previous</th>\n",
              "      <th>poutcome</th>\n",
              "      <th>deposit</th>\n",
              "    </tr>\n",
              "  </thead>\n",
              "  <tbody>\n",
              "    <tr>\n",
              "      <th>0</th>\n",
              "      <td>59</td>\n",
              "      <td>admin.</td>\n",
              "      <td>married</td>\n",
              "      <td>secondary</td>\n",
              "      <td>no</td>\n",
              "      <td>2343</td>\n",
              "      <td>yes</td>\n",
              "      <td>no</td>\n",
              "      <td>unknown</td>\n",
              "      <td>5</td>\n",
              "      <td>may</td>\n",
              "      <td>1042</td>\n",
              "      <td>1</td>\n",
              "      <td>-1</td>\n",
              "      <td>0</td>\n",
              "      <td>unknown</td>\n",
              "      <td>yes</td>\n",
              "    </tr>\n",
              "    <tr>\n",
              "      <th>1</th>\n",
              "      <td>56</td>\n",
              "      <td>admin.</td>\n",
              "      <td>married</td>\n",
              "      <td>secondary</td>\n",
              "      <td>no</td>\n",
              "      <td>45</td>\n",
              "      <td>no</td>\n",
              "      <td>no</td>\n",
              "      <td>unknown</td>\n",
              "      <td>5</td>\n",
              "      <td>may</td>\n",
              "      <td>1467</td>\n",
              "      <td>1</td>\n",
              "      <td>-1</td>\n",
              "      <td>0</td>\n",
              "      <td>unknown</td>\n",
              "      <td>yes</td>\n",
              "    </tr>\n",
              "    <tr>\n",
              "      <th>2</th>\n",
              "      <td>41</td>\n",
              "      <td>technician</td>\n",
              "      <td>married</td>\n",
              "      <td>secondary</td>\n",
              "      <td>no</td>\n",
              "      <td>1270</td>\n",
              "      <td>yes</td>\n",
              "      <td>no</td>\n",
              "      <td>unknown</td>\n",
              "      <td>5</td>\n",
              "      <td>may</td>\n",
              "      <td>1389</td>\n",
              "      <td>1</td>\n",
              "      <td>-1</td>\n",
              "      <td>0</td>\n",
              "      <td>unknown</td>\n",
              "      <td>yes</td>\n",
              "    </tr>\n",
              "    <tr>\n",
              "      <th>3</th>\n",
              "      <td>55</td>\n",
              "      <td>services</td>\n",
              "      <td>married</td>\n",
              "      <td>secondary</td>\n",
              "      <td>no</td>\n",
              "      <td>2476</td>\n",
              "      <td>yes</td>\n",
              "      <td>no</td>\n",
              "      <td>unknown</td>\n",
              "      <td>5</td>\n",
              "      <td>may</td>\n",
              "      <td>579</td>\n",
              "      <td>1</td>\n",
              "      <td>-1</td>\n",
              "      <td>0</td>\n",
              "      <td>unknown</td>\n",
              "      <td>yes</td>\n",
              "    </tr>\n",
              "    <tr>\n",
              "      <th>4</th>\n",
              "      <td>54</td>\n",
              "      <td>admin.</td>\n",
              "      <td>married</td>\n",
              "      <td>tertiary</td>\n",
              "      <td>no</td>\n",
              "      <td>184</td>\n",
              "      <td>no</td>\n",
              "      <td>no</td>\n",
              "      <td>unknown</td>\n",
              "      <td>5</td>\n",
              "      <td>may</td>\n",
              "      <td>673</td>\n",
              "      <td>2</td>\n",
              "      <td>-1</td>\n",
              "      <td>0</td>\n",
              "      <td>unknown</td>\n",
              "      <td>yes</td>\n",
              "    </tr>\n",
              "    <tr>\n",
              "      <th>5</th>\n",
              "      <td>42</td>\n",
              "      <td>management</td>\n",
              "      <td>single</td>\n",
              "      <td>tertiary</td>\n",
              "      <td>no</td>\n",
              "      <td>0</td>\n",
              "      <td>yes</td>\n",
              "      <td>yes</td>\n",
              "      <td>unknown</td>\n",
              "      <td>5</td>\n",
              "      <td>may</td>\n",
              "      <td>562</td>\n",
              "      <td>2</td>\n",
              "      <td>-1</td>\n",
              "      <td>0</td>\n",
              "      <td>unknown</td>\n",
              "      <td>yes</td>\n",
              "    </tr>\n",
              "    <tr>\n",
              "      <th>6</th>\n",
              "      <td>56</td>\n",
              "      <td>management</td>\n",
              "      <td>married</td>\n",
              "      <td>tertiary</td>\n",
              "      <td>no</td>\n",
              "      <td>830</td>\n",
              "      <td>yes</td>\n",
              "      <td>yes</td>\n",
              "      <td>unknown</td>\n",
              "      <td>6</td>\n",
              "      <td>may</td>\n",
              "      <td>1201</td>\n",
              "      <td>1</td>\n",
              "      <td>-1</td>\n",
              "      <td>0</td>\n",
              "      <td>unknown</td>\n",
              "      <td>yes</td>\n",
              "    </tr>\n",
              "    <tr>\n",
              "      <th>7</th>\n",
              "      <td>60</td>\n",
              "      <td>retired</td>\n",
              "      <td>divorced</td>\n",
              "      <td>secondary</td>\n",
              "      <td>no</td>\n",
              "      <td>545</td>\n",
              "      <td>yes</td>\n",
              "      <td>no</td>\n",
              "      <td>unknown</td>\n",
              "      <td>6</td>\n",
              "      <td>may</td>\n",
              "      <td>1030</td>\n",
              "      <td>1</td>\n",
              "      <td>-1</td>\n",
              "      <td>0</td>\n",
              "      <td>unknown</td>\n",
              "      <td>yes</td>\n",
              "    </tr>\n",
              "    <tr>\n",
              "      <th>8</th>\n",
              "      <td>37</td>\n",
              "      <td>technician</td>\n",
              "      <td>married</td>\n",
              "      <td>secondary</td>\n",
              "      <td>no</td>\n",
              "      <td>1</td>\n",
              "      <td>yes</td>\n",
              "      <td>no</td>\n",
              "      <td>unknown</td>\n",
              "      <td>6</td>\n",
              "      <td>may</td>\n",
              "      <td>608</td>\n",
              "      <td>1</td>\n",
              "      <td>-1</td>\n",
              "      <td>0</td>\n",
              "      <td>unknown</td>\n",
              "      <td>yes</td>\n",
              "    </tr>\n",
              "    <tr>\n",
              "      <th>9</th>\n",
              "      <td>28</td>\n",
              "      <td>services</td>\n",
              "      <td>single</td>\n",
              "      <td>secondary</td>\n",
              "      <td>no</td>\n",
              "      <td>5090</td>\n",
              "      <td>yes</td>\n",
              "      <td>no</td>\n",
              "      <td>unknown</td>\n",
              "      <td>6</td>\n",
              "      <td>may</td>\n",
              "      <td>1297</td>\n",
              "      <td>3</td>\n",
              "      <td>-1</td>\n",
              "      <td>0</td>\n",
              "      <td>unknown</td>\n",
              "      <td>yes</td>\n",
              "    </tr>\n",
              "  </tbody>\n",
              "</table>\n",
              "</div>\n",
              "      <button class=\"colab-df-convert\" onclick=\"convertToInteractive('df-e152a224-86d0-493e-9ae5-3cba2895c407')\"\n",
              "              title=\"Convert this dataframe to an interactive table.\"\n",
              "              style=\"display:none;\">\n",
              "        \n",
              "  <svg xmlns=\"http://www.w3.org/2000/svg\" height=\"24px\"viewBox=\"0 0 24 24\"\n",
              "       width=\"24px\">\n",
              "    <path d=\"M0 0h24v24H0V0z\" fill=\"none\"/>\n",
              "    <path d=\"M18.56 5.44l.94 2.06.94-2.06 2.06-.94-2.06-.94-.94-2.06-.94 2.06-2.06.94zm-11 1L8.5 8.5l.94-2.06 2.06-.94-2.06-.94L8.5 2.5l-.94 2.06-2.06.94zm10 10l.94 2.06.94-2.06 2.06-.94-2.06-.94-.94-2.06-.94 2.06-2.06.94z\"/><path d=\"M17.41 7.96l-1.37-1.37c-.4-.4-.92-.59-1.43-.59-.52 0-1.04.2-1.43.59L10.3 9.45l-7.72 7.72c-.78.78-.78 2.05 0 2.83L4 21.41c.39.39.9.59 1.41.59.51 0 1.02-.2 1.41-.59l7.78-7.78 2.81-2.81c.8-.78.8-2.07 0-2.86zM5.41 20L4 18.59l7.72-7.72 1.47 1.35L5.41 20z\"/>\n",
              "  </svg>\n",
              "      </button>\n",
              "      \n",
              "  <style>\n",
              "    .colab-df-container {\n",
              "      display:flex;\n",
              "      flex-wrap:wrap;\n",
              "      gap: 12px;\n",
              "    }\n",
              "\n",
              "    .colab-df-convert {\n",
              "      background-color: #E8F0FE;\n",
              "      border: none;\n",
              "      border-radius: 50%;\n",
              "      cursor: pointer;\n",
              "      display: none;\n",
              "      fill: #1967D2;\n",
              "      height: 32px;\n",
              "      padding: 0 0 0 0;\n",
              "      width: 32px;\n",
              "    }\n",
              "\n",
              "    .colab-df-convert:hover {\n",
              "      background-color: #E2EBFA;\n",
              "      box-shadow: 0px 1px 2px rgba(60, 64, 67, 0.3), 0px 1px 3px 1px rgba(60, 64, 67, 0.15);\n",
              "      fill: #174EA6;\n",
              "    }\n",
              "\n",
              "    [theme=dark] .colab-df-convert {\n",
              "      background-color: #3B4455;\n",
              "      fill: #D2E3FC;\n",
              "    }\n",
              "\n",
              "    [theme=dark] .colab-df-convert:hover {\n",
              "      background-color: #434B5C;\n",
              "      box-shadow: 0px 1px 3px 1px rgba(0, 0, 0, 0.15);\n",
              "      filter: drop-shadow(0px 1px 2px rgba(0, 0, 0, 0.3));\n",
              "      fill: #FFFFFF;\n",
              "    }\n",
              "  </style>\n",
              "\n",
              "      <script>\n",
              "        const buttonEl =\n",
              "          document.querySelector('#df-e152a224-86d0-493e-9ae5-3cba2895c407 button.colab-df-convert');\n",
              "        buttonEl.style.display =\n",
              "          google.colab.kernel.accessAllowed ? 'block' : 'none';\n",
              "\n",
              "        async function convertToInteractive(key) {\n",
              "          const element = document.querySelector('#df-e152a224-86d0-493e-9ae5-3cba2895c407');\n",
              "          const dataTable =\n",
              "            await google.colab.kernel.invokeFunction('convertToInteractive',\n",
              "                                                     [key], {});\n",
              "          if (!dataTable) return;\n",
              "\n",
              "          const docLinkHtml = 'Like what you see? Visit the ' +\n",
              "            '<a target=\"_blank\" href=https://colab.research.google.com/notebooks/data_table.ipynb>data table notebook</a>'\n",
              "            + ' to learn more about interactive tables.';\n",
              "          element.innerHTML = '';\n",
              "          dataTable['output_type'] = 'display_data';\n",
              "          await google.colab.output.renderOutput(dataTable, element);\n",
              "          const docLink = document.createElement('div');\n",
              "          docLink.innerHTML = docLinkHtml;\n",
              "          element.appendChild(docLink);\n",
              "        }\n",
              "      </script>\n",
              "    </div>\n",
              "  </div>\n",
              "  "
            ]
          },
          "metadata": {},
          "execution_count": 9
        }
      ]
    },
    {
      "cell_type": "code",
      "source": [],
      "metadata": {
        "id": "cMJe7Bn_Dfpr"
      },
      "execution_count": null,
      "outputs": []
    },
    {
      "cell_type": "markdown",
      "source": [
        "#3.1. Apply StandardScaler() function to columns that contains numerical data ('age', 'balance', 'day', 'campaign', 'pdays', 'previous')"
      ],
      "metadata": {
        "id": "q89LEvT7dqaZ"
      }
    },
    {
      "cell_type": "code",
      "source": [
        "#code\n",
        "import pandas as pd\n",
        "from sklearn.preprocessing import StandardScaler\n",
        "\n",
        "# load the bank dataset\n",
        "# dataset = pd.read_csv('bank.csv')\n",
        "dataset=pd.read_csv(\"bank.csv\")\n",
        "\n",
        "# select the numerical columns to scale\n",
        "num_cols = ['age', 'balance', 'day', 'campaign', 'pdays', 'previous']\n",
        "\n",
        "# create a StandardScaler object\n",
        "scaler = StandardScaler()\n",
        "\n",
        "# fit and transform the selected columns\n",
        "dataset[num_cols] = scaler.fit_transform(dataset[num_cols])\n",
        "\n",
        "# check the updated dataframe\n",
        "print(dataset.head())\n"
      ],
      "metadata": {
        "id": "8vx3mfIidu4P",
        "colab": {
          "base_uri": "https://localhost:8080/"
        },
        "outputId": "2a3cacb8-96c2-4787-f491-a138257e4ed3"
      },
      "execution_count": null,
      "outputs": [
        {
          "output_type": "stream",
          "name": "stdout",
          "text": [
            "        age         job  marital  education default   balance housing loan  \\\n",
            "0  1.491505      admin.  married  secondary      no  0.252525     yes   no   \n",
            "1  1.239676      admin.  married  secondary      no -0.459974      no   no   \n",
            "2 -0.019470  technician  married  secondary      no -0.080160     yes   no   \n",
            "3  1.155733    services  married  secondary      no  0.293762     yes   no   \n",
            "4  1.071790      admin.  married   tertiary      no -0.416876      no   no   \n",
            "\n",
            "   contact       day month  duration  campaign     pdays  previous poutcome  \\\n",
            "0  unknown -1.265746   may      1042 -0.554168 -0.481184  -0.36326  unknown   \n",
            "1  unknown -1.265746   may      1467 -0.554168 -0.481184  -0.36326  unknown   \n",
            "2  unknown -1.265746   may      1389 -0.554168 -0.481184  -0.36326  unknown   \n",
            "3  unknown -1.265746   may       579 -0.554168 -0.481184  -0.36326  unknown   \n",
            "4  unknown -1.265746   may       673 -0.186785 -0.481184  -0.36326  unknown   \n",
            "\n",
            "  deposit  \n",
            "0     yes  \n",
            "1     yes  \n",
            "2     yes  \n",
            "3     yes  \n",
            "4     yes  \n"
          ]
        }
      ]
    },
    {
      "cell_type": "markdown",
      "source": [
        "#3.2. Apply Encode Categorical Value (OneHotEncoder) to transfrom categorical data to numerical data ('job', 'marital', 'education', 'default', 'housing', 'loan', 'contact', 'month', 'poutcome')"
      ],
      "metadata": {
        "id": "r7acR0TxdvY8"
      }
    },
    {
      "cell_type": "code",
      "source": [
        "#code\n",
        "import pandas as pd\n",
        "from sklearn.preprocessing import OneHotEncoder\n",
        "\n",
        "# Load the bank dataset\n",
        "df = pd.read_csv(\"bank.csv\")\n",
        "\n",
        "# Select categorical columns to be encoded\n",
        "cat_cols = ['job', 'marital', 'education', 'default', 'housing', 'loan', 'contact', 'month', 'poutcome']\n",
        "\n",
        "# Create OneHotEncoder instance\n",
        "encoder = OneHotEncoder(handle_unknown=\"ignore\")\n",
        "\n",
        "# Fit the encoder on the categorical columns\n",
        "encoder.fit(df[cat_cols])\n",
        "\n",
        "# Transform the categorical columns to numerical using the fitted encoder\n",
        "encoded = encoder.transform(df[cat_cols]).toarray()\n",
        "\n",
        "# Create a dataframe from the encoded data and get the new column names\n",
        "encoded_df = pd.DataFrame(encoded, columns=encoder.get_feature_names_out(cat_cols))\n",
        "\n",
        "# Concatenate the encoded dataframe with the original dataframe\n",
        "df_encoded = pd.concat([df, encoded_df], axis=1)\n",
        "\n",
        "# Drop the original categorical columns\n",
        "df_encoded.drop(cat_cols, axis=1, inplace=True)\n",
        "\n",
        "# Display the encoded dataframe\n",
        "print(df_encoded.head())\n"
      ],
      "metadata": {
        "id": "egtgBmAtd0um",
        "colab": {
          "base_uri": "https://localhost:8080/"
        },
        "outputId": "c14705ee-6cbd-4ac0-91f9-a75258ab30d0"
      },
      "execution_count": null,
      "outputs": [
        {
          "output_type": "stream",
          "name": "stdout",
          "text": [
            "   age  balance  day  duration  campaign  pdays  previous deposit  job_admin.  \\\n",
            "0   59     2343    5      1042         1     -1         0     yes         1.0   \n",
            "1   56       45    5      1467         1     -1         0     yes         1.0   \n",
            "2   41     1270    5      1389         1     -1         0     yes         0.0   \n",
            "3   55     2476    5       579         1     -1         0     yes         0.0   \n",
            "4   54      184    5       673         2     -1         0     yes         1.0   \n",
            "\n",
            "   job_blue-collar  ...  month_jun  month_mar  month_may  month_nov  \\\n",
            "0              0.0  ...        0.0        0.0        1.0        0.0   \n",
            "1              0.0  ...        0.0        0.0        1.0        0.0   \n",
            "2              0.0  ...        0.0        0.0        1.0        0.0   \n",
            "3              0.0  ...        0.0        0.0        1.0        0.0   \n",
            "4              0.0  ...        0.0        0.0        1.0        0.0   \n",
            "\n",
            "   month_oct  month_sep  poutcome_failure  poutcome_other  poutcome_success  \\\n",
            "0        0.0        0.0               0.0             0.0               0.0   \n",
            "1        0.0        0.0               0.0             0.0               0.0   \n",
            "2        0.0        0.0               0.0             0.0               0.0   \n",
            "3        0.0        0.0               0.0             0.0               0.0   \n",
            "4        0.0        0.0               0.0             0.0               0.0   \n",
            "\n",
            "   poutcome_unknown  \n",
            "0               1.0  \n",
            "1               1.0  \n",
            "2               1.0  \n",
            "3               1.0  \n",
            "4               1.0  \n",
            "\n",
            "[5 rows x 52 columns]\n"
          ]
        }
      ]
    },
    {
      "cell_type": "markdown",
      "source": [
        "#3.3. Apply **Decision tree, Random forest, kNN, NaïveBayes** to preproceed dataset in the previous steps. Then compare the obtained results using **accuracy, precision, recall, f1** measures."
      ],
      "metadata": {
        "id": "K2Si6d69d1nh"
      }
    },
    {
      "cell_type": "markdown",
      "source": [
        "#3.4. Using selection feature to above dataset, then compare the classification results with those in Task 2.3. "
      ],
      "metadata": {
        "id": "SweVRB4meApP"
      }
    },
    {
      "cell_type": "code",
      "source": [
        "#code"
      ],
      "metadata": {
        "id": "seFBhqCSeC7C"
      },
      "execution_count": null,
      "outputs": []
    },
    {
      "cell_type": "markdown",
      "source": [
        "#Task 4. \n",
        "For a given dataset in the Lab #5 (**credit card dataset**), perform feature selection and thencompare the performance of selected classification algorithms (Decision Tree, kNN, Logistic Regression, SVM, Random Forest and NaiveBayes) based on accuracy, precision, recall, f1 measures.\n"
      ],
      "metadata": {
        "id": "Z5pp7_h-aP2u"
      }
    },
    {
      "cell_type": "code",
      "source": [
        "# code\n",
        "import pandas as pd\n",
        "from sklearn.feature_selection import RFE\n",
        "from sklearn.model_selection import train_test_split\n",
        "from sklearn.preprocessing import StandardScaler\n",
        "from sklearn.tree import DecisionTreeClassifier\n",
        "from sklearn.neighbors import KNeighborsClassifier\n",
        "from sklearn.linear_model import LogisticRegression\n",
        "from sklearn.svm import SVC\n",
        "from sklearn.ensemble import RandomForestClassifier\n",
        "from sklearn.naive_bayes import GaussianNB\n",
        "\n",
        "# Load the dataset\n",
        "df = pd.read_csv(\"creditcard.csv\")\n"
      ],
      "metadata": {
        "id": "Rw_-8FIf2KxW"
      },
      "execution_count": null,
      "outputs": []
    },
    {
      "cell_type": "code",
      "source": [
        "# Separate the features and target variable\n",
        "X = df.drop('Class', axis=1)\n",
        "y = df['Class']\n",
        "\n",
        "# Split the dataset into training and testing sets\n",
        "X_train, X_test, y_train, y_test = train_test_split(X, y, test_size=0.3, random_state=42)\n"
      ],
      "metadata": {
        "id": "jWkpCpPoPP5V"
      },
      "execution_count": null,
      "outputs": []
    },
    {
      "cell_type": "code",
      "source": [
        "# Scale the numerical features\n",
        "scaler = StandardScaler()\n",
        "num_cols = ['Time', 'Amount']\n",
        "X_train[num_cols] = scaler.fit_transform(X_train[num_cols])\n",
        "X_test[num_cols] = scaler.transform(X_test[num_cols])\n"
      ],
      "metadata": {
        "id": "ix4ikmxoPXyv"
      },
      "execution_count": null,
      "outputs": []
    },
    {
      "cell_type": "code",
      "source": [
        "# Train and evaluate the performance of different classification algorithms\n",
        "classifiers = {\n",
        "    'Decision Tree': DecisionTreeClassifier(),\n",
        "    'kNN': KNeighborsClassifier(),\n",
        "    'Logistic Regression': LogisticRegression(),\n",
        "    'SVM': SVC(),\n",
        "    'Random Forest': RandomForestClassifier(),\n",
        "    'Naive Bayes': GaussianNB()\n",
        "}\n",
        "\n",
        "for name, clf in classifiers.items():\n",
        "    clf.fit(X_train, y_train)\n",
        "    y_pred = clf.predict(X_test)\n",
        "    acc = accuracy_score(y_test, y_pred)\n",
        "    precision = precision_score(y_test, y_pred)\n",
        "    recall = recall_score(y_test, y_pred)\n",
        "    f1 = f1_score(y_test, y_pred)\n",
        "    print(f'{name}: Accuracy = {acc}, Precision = {precision}, Recall = {recall}, F1-score = {f1}')\n"
      ],
      "metadata": {
        "id": "qlGRpKfcP5pP",
        "colab": {
          "base_uri": "https://localhost:8080/"
        },
        "outputId": "afc6f6cc-724d-49bd-84d7-5dd687c92c89"
      },
      "execution_count": null,
      "outputs": [
        {
          "output_type": "stream",
          "name": "stdout",
          "text": [
            "Decision Tree: Accuracy = 0.9991807403766253, Precision = 0.72, Recall = 0.7941176470588235, F1-score = 0.7552447552447551\n"
          ]
        }
      ]
    },
    {
      "cell_type": "markdown",
      "source": [
        "#Finally,\n",
        "Save a copy in your Github. Remember renaming the notebook."
      ],
      "metadata": {
        "id": "Ok7RGkea_b7n"
      }
    }
  ]
}